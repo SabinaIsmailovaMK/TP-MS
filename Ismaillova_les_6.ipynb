{
  "nbformat": 4,
  "nbformat_minor": 0,
  "metadata": {
    "colab": {
      "provenance": [],
      "collapsed_sections": [],
      "authorship_tag": "ABX9TyNPoLbdOp/XGuXktgVcTmOA",
      "include_colab_link": true
    },
    "kernelspec": {
      "name": "python3",
      "display_name": "Python 3"
    },
    "language_info": {
      "name": "python"
    }
  },
  "cells": [
    {
      "cell_type": "markdown",
      "metadata": {
        "id": "view-in-github",
        "colab_type": "text"
      },
      "source": [
        "<a href=\"https://colab.research.google.com/github/SabinaIsmailovaMK/TP-MS/blob/master/Ismaillova_les_6.ipynb\" target=\"_parent\"><img src=\"https://colab.research.google.com/assets/colab-badge.svg\" alt=\"Open In Colab\"/></a>"
      ]
    },
    {
      "cell_type": "markdown",
      "source": [
        "# 1. \n",
        "Даны значения величины заработной платы заемщиков банка (zp) и значения их поведенческого кредитного скоринга (ks):\n",
        "zp = [35, 45, 190, 200, 40, 70, 54, 150, 120, 110],\n",
        "ks = [401, 574, 874, 919, 459, 739, 653, 902, 746, 832].\n",
        "Найдите ковариацию этих двух величин с помощью элементарных действий, а затем с помощью функции cov из numpy\n",
        "Полученные значения должны быть равны.\n",
        "Найдите коэффициент корреляции Пирсона с помощью ковариации и среднеквадратичных отклонений двух признаков,\n",
        "а затем с использованием функций из библиотек numpy и pandas."
      ],
      "metadata": {
        "id": "sKikS_P36XyL"
      }
    },
    {
      "cell_type": "code",
      "execution_count": 75,
      "metadata": {
        "id": "gbKJcyMX50Nm"
      },
      "outputs": [],
      "source": [
        "import numpy as np\n",
        "import pandas as pd\n",
        "from statsmodels.stats.weightstats import _tconfint_generic as t_stat"
      ]
    },
    {
      "cell_type": "code",
      "source": [
        "zp = np.array([35, 45, 190, 200, 40, 70, 54, 150, 120, 110])\n",
        "ks = np.array([401, 574, 874, 919, 459, 739, 653, 902, 746, 832])"
      ],
      "metadata": {
        "id": "Zm4o1AKp6Cp6"
      },
      "execution_count": 76,
      "outputs": []
    },
    {
      "cell_type": "code",
      "source": [
        "M_X = zp.mean()\n",
        "M_Y = ks.mean()\n",
        "M_XY = (zp * ks).mean()"
      ],
      "metadata": {
        "id": "znYBpejkELCc"
      },
      "execution_count": 77,
      "outputs": []
    },
    {
      "cell_type": "code",
      "source": [
        "cov_ks = M_XY - M_X * M_Y\n",
        "cov_ks"
      ],
      "metadata": {
        "colab": {
          "base_uri": "https://localhost:8080/"
        },
        "id": "-Ec_rgXtE2zq",
        "outputId": "2be0f228-26fd-4017-983b-345b150e902f"
      },
      "execution_count": 78,
      "outputs": [
        {
          "output_type": "execute_result",
          "data": {
            "text/plain": [
              "9157.839999999997"
            ]
          },
          "metadata": {},
          "execution_count": 78
        }
      ]
    },
    {
      "cell_type": "code",
      "source": [
        "np.cov(zp, ks, ddof=0)"
      ],
      "metadata": {
        "colab": {
          "base_uri": "https://localhost:8080/"
        },
        "id": "iuds7fov75XZ",
        "outputId": "a9b85983-261e-47d1-ed9b-ceb58fd68cb6"
      },
      "execution_count": 79,
      "outputs": [
        {
          "output_type": "execute_result",
          "data": {
            "text/plain": [
              "array([[ 3494.64,  9157.84],\n",
              "       [ 9157.84, 30468.89]])"
            ]
          },
          "metadata": {},
          "execution_count": 79
        }
      ]
    },
    {
      "cell_type": "code",
      "source": [
        "cov_ks2 = ((zp - zp.mean()) * (ks - ks.mean())).mean()\n",
        "cov_ks2"
      ],
      "metadata": {
        "colab": {
          "base_uri": "https://localhost:8080/"
        },
        "id": "Mz_jDZt32f3G",
        "outputId": "a07cc1e2-23c1-403e-b5e3-36a81f71cefa"
      },
      "execution_count": 80,
      "outputs": [
        {
          "output_type": "execute_result",
          "data": {
            "text/plain": [
              "9157.84"
            ]
          },
          "metadata": {},
          "execution_count": 80
        }
      ]
    },
    {
      "cell_type": "code",
      "source": [
        "std_X = zp.std()\n",
        "std_Y = ks.std()"
      ],
      "metadata": {
        "id": "5NvvZsSm67zB"
      },
      "execution_count": 81,
      "outputs": []
    },
    {
      "cell_type": "code",
      "source": [
        "corr_ks = cov_ks/(zp.std()*ks.std())\n",
        "corr_ks"
      ],
      "metadata": {
        "colab": {
          "base_uri": "https://localhost:8080/"
        },
        "id": "wUQlVJb37YLM",
        "outputId": "b6371caf-c4c0-44d4-a6bb-27d8c707658c"
      },
      "execution_count": 82,
      "outputs": [
        {
          "output_type": "execute_result",
          "data": {
            "text/plain": [
              "0.8874900920739158"
            ]
          },
          "metadata": {},
          "execution_count": 82
        }
      ]
    },
    {
      "cell_type": "code",
      "source": [
        "np.corrcoef(zp, ks)"
      ],
      "metadata": {
        "colab": {
          "base_uri": "https://localhost:8080/"
        },
        "id": "tG9FSpFs7955",
        "outputId": "a015deba-d63d-4f87-90fe-fa928ea793ce"
      },
      "execution_count": 83,
      "outputs": [
        {
          "output_type": "execute_result",
          "data": {
            "text/plain": [
              "array([[1.        , 0.88749009],\n",
              "       [0.88749009, 1.        ]])"
            ]
          },
          "metadata": {},
          "execution_count": 83
        }
      ]
    },
    {
      "cell_type": "markdown",
      "source": [
        "# 2.\n",
        "Измерены значения IQ выборки студентов,\n",
        "обучающихся в местных технических вузах:\n",
        "131, 125, 115, 122, 131, 115, 107, 99, 125, 111.\n",
        "Известно, что в генеральной совокупности IQ распределен нормально.\n",
        "Найдите доверительный интервал для математического ожидания с надежностью 0.95."
      ],
      "metadata": {
        "id": "sv8n2n1xBwUH"
      }
    },
    {
      "cell_type": "code",
      "source": [
        "iq = np.array([131, 125, 115, 122, 131, 115, 107, 99, 125, 111])\n",
        "size = len(iq)\n",
        "mean_iq = iq.mean()\n",
        "std_iq = iq.std(ddof=1)\n",
        "mean_std_iq = std_iq / (np.sqrt(size))"
      ],
      "metadata": {
        "id": "6kn9rnHRq4bf"
      },
      "execution_count": 84,
      "outputs": []
    },
    {
      "cell_type": "code",
      "source": [
        "t_stat(mean_iq, mean_std_iq, size - 1, 0.05, 'two-sided')"
      ],
      "metadata": {
        "colab": {
          "base_uri": "https://localhost:8080/"
        },
        "id": "xkNIAAwbrwic",
        "outputId": "5840e5f9-67ca-4915-b8e9-d0928dab08f8"
      },
      "execution_count": 85,
      "outputs": [
        {
          "output_type": "execute_result",
          "data": {
            "text/plain": [
              "(110.55608365158724, 125.64391634841274)"
            ]
          },
          "metadata": {},
          "execution_count": 85
        }
      ]
    },
    {
      "cell_type": "markdown",
      "source": [
        "## 3.\n",
        "Известно, что рост футболистов в сборной распределен нормально\n",
        "с дисперсией генеральной совокупности, равной 25 кв.см. Объем выборки равен 27,\n",
        "среднее выборочное составляет 174.2. Найдите доверительный интервал для математического\n",
        "ожидания с надежностью 0.95"
      ],
      "metadata": {
        "id": "zDH4aj-v-KC8"
      }
    },
    {
      "cell_type": "code",
      "source": [
        "mean_x = 174.2\n",
        "std_x = np.sqrt(25)\n",
        "mean_std_x = std_x / np.sqrt(27)"
      ],
      "metadata": {
        "id": "vEcqKb13-LAx"
      },
      "execution_count": 86,
      "outputs": []
    },
    {
      "cell_type": "code",
      "source": [
        "t_stat(mean_x, mean_std_x,27 - 1, 0.05, 'two-sided')"
      ],
      "metadata": {
        "colab": {
          "base_uri": "https://localhost:8080/"
        },
        "id": "mY-oBa-e_Xbw",
        "outputId": "107744fa-4f01-4a9d-9786-f06fd52e62ef"
      },
      "execution_count": 87,
      "outputs": [
        {
          "output_type": "execute_result",
          "data": {
            "text/plain": [
              "(172.2220658754539, 176.17793412454608)"
            ]
          },
          "metadata": {},
          "execution_count": 87
        }
      ]
    }
  ]
}