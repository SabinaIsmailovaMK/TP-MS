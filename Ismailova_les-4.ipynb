{
 "cells": [
  {
   "cell_type": "code",
   "execution_count": 170,
   "id": "7faf52c1",
   "metadata": {},
   "outputs": [],
   "source": [
    "import numpy as np\n",
    "import pandas as pd\n",
    "from matplotlib import pyplot as plt"
   ]
  },
  {
   "cell_type": "markdown",
   "id": "f2602c32",
   "metadata": {},
   "source": [
    "## Задача  1\n",
    "\n",
    "Случайная непрерывная величина A имеет равномерное распределение на промежутке (200, 800].\n",
    "Найдите ее среднее значение и дисперсию."
   ]
  },
  {
   "cell_type": "code",
   "execution_count": 171,
   "id": "cd7d3316",
   "metadata": {},
   "outputs": [
    {
     "data": {
      "text/plain": [
       "500.0"
      ]
     },
     "execution_count": 171,
     "metadata": {},
     "output_type": "execute_result"
    }
   ],
   "source": [
    "M = (200 +800)/2 \n",
    "M"
   ]
  },
  {
   "cell_type": "code",
   "execution_count": 172,
   "id": "28097449",
   "metadata": {},
   "outputs": [
    {
     "data": {
      "text/plain": [
       "30000.0"
      ]
     },
     "execution_count": 172,
     "metadata": {},
     "output_type": "execute_result"
    }
   ],
   "source": [
    "D = (800-200)** 2/12 \n",
    "D"
   ]
  },
  {
   "cell_type": "markdown",
   "id": "299648b5",
   "metadata": {},
   "source": [
    "## Задача 2 \n",
    "\n",
    "О случайной непрерывной равномерно распределенной величине B известно, что ее дисперсия равна 0.2.\n",
    "Можно ли найти правую границу величины B и ее среднее значение зная, что левая граница равна 0.5?\n",
    "Если да, найдите ее.\n"
   ]
  },
  {
   "cell_type": "code",
   "execution_count": 173,
   "id": "f2827a90",
   "metadata": {},
   "outputs": [
    {
     "data": {
      "text/plain": [
       "2.049193338482967"
      ]
     },
     "execution_count": 173,
     "metadata": {},
     "output_type": "execute_result"
    }
   ],
   "source": [
    "a = 0.5\n",
    "D= 0.2\n",
    "b = abs(np.sqrt(D * 12)+ a)\n",
    "b"
   ]
  },
  {
   "cell_type": "code",
   "execution_count": 174,
   "id": "70625f2d",
   "metadata": {},
   "outputs": [
    {
     "data": {
      "text/plain": [
       "1.2745966692414834"
      ]
     },
     "execution_count": 174,
     "metadata": {},
     "output_type": "execute_result"
    }
   ],
   "source": [
    "M = (a +b)/2\n",
    "M"
   ]
  },
  {
   "cell_type": "markdown",
   "id": "bc0759f2",
   "metadata": {},
   "source": [
    "## Задача 3\n",
    "\n",
    "Непрерывная случайная величина X распределена нормально и задана плотностью распределения\n",
    "f(x) = (1 / (4 * sqrt(2*pi))) * (exp(-((x+2)**2) / 32))\n",
    "Найдите:\n",
    "а). M(X)\n",
    "б). D(X)\n",
    "в). std(X) (среднее квадратичное отклонение)\n"
   ]
  },
  {
   "cell_type": "code",
   "execution_count": 175,
   "id": "2b8e80fd",
   "metadata": {},
   "outputs": [],
   "source": [
    "M = -2"
   ]
  },
  {
   "cell_type": "code",
   "execution_count": 176,
   "id": "f08df2af",
   "metadata": {},
   "outputs": [
    {
     "data": {
      "text/plain": [
       "16"
      ]
     },
     "execution_count": 176,
     "metadata": {},
     "output_type": "execute_result"
    }
   ],
   "source": [
    "D = 4**2\n",
    "D"
   ]
  },
  {
   "cell_type": "code",
   "execution_count": 177,
   "id": "64a9619e",
   "metadata": {},
   "outputs": [
    {
     "data": {
      "text/plain": [
       "8.0"
      ]
     },
     "execution_count": 177,
     "metadata": {},
     "output_type": "execute_result"
    }
   ],
   "source": [
    "(32/2)*0.5"
   ]
  },
  {
   "cell_type": "markdown",
   "id": "44acfe4f",
   "metadata": {},
   "source": [
    "## Задача 4\n",
    "\n",
    "Рост взрослого населения города X имеет нормальное распределение.\n",
    "Причем, средний рост равен 174 см, а среднее квадратичное отклонение равно 8 см.\n",
    "Какова вероятность того, что случайным образом выбранный взрослый человек имеет рост:\n",
    "а). больше 182 см\n",
    "б). больше 190 см\n",
    "в). от 166 см до 190 см\n",
    "г). от 166 см до 182 см\n",
    "д). от 158 см до 190 см\n",
    "е). не выше 150 см или не ниже 190 см\n",
    "ё). не выше 150 см или не ниже 198 см\n",
    "ж). ниже 166 см\n"
   ]
  },
  {
   "cell_type": "markdown",
   "id": "5eed682e",
   "metadata": {},
   "source": [
    "a) больше 182 см "
   ]
  },
  {
   "cell_type": "code",
   "execution_count": 178,
   "id": "9f666012",
   "metadata": {},
   "outputs": [
    {
     "data": {
      "text/plain": [
       "1.0"
      ]
     },
     "execution_count": 178,
     "metadata": {},
     "output_type": "execute_result"
    }
   ],
   "source": [
    "Z = (182-174)/8\n",
    "Z"
   ]
  },
  {
   "cell_type": "code",
   "execution_count": 179,
   "id": "76f1ed2b",
   "metadata": {},
   "outputs": [
    {
     "data": {
      "text/plain": [
       "15.869999999999996"
      ]
     },
     "execution_count": 179,
     "metadata": {},
     "output_type": "execute_result"
    }
   ],
   "source": [
    "z = 0.8413\n",
    "P = (1 - z) * 100\n",
    "P"
   ]
  },
  {
   "cell_type": "markdown",
   "id": "5c102348",
   "metadata": {},
   "source": [
    "б) больше 190 см"
   ]
  },
  {
   "cell_type": "code",
   "execution_count": 180,
   "id": "a77f7e27",
   "metadata": {},
   "outputs": [
    {
     "data": {
      "text/plain": [
       "2.0"
      ]
     },
     "execution_count": 180,
     "metadata": {},
     "output_type": "execute_result"
    }
   ],
   "source": [
    "Z = (190-174)/8\n",
    "Z"
   ]
  },
  {
   "cell_type": "code",
   "execution_count": 181,
   "id": "6a436cde",
   "metadata": {},
   "outputs": [
    {
     "data": {
      "text/plain": [
       "2.2800000000000042"
      ]
     },
     "execution_count": 181,
     "metadata": {},
     "output_type": "execute_result"
    }
   ],
   "source": [
    "z = 0.9772\n",
    "P = (1 - z) * 100\n",
    "P"
   ]
  },
  {
   "cell_type": "markdown",
   "id": "d96ecc25",
   "metadata": {},
   "source": [
    "в) от 166 см до 190 см"
   ]
  },
  {
   "cell_type": "code",
   "execution_count": 182,
   "id": "eb321936",
   "metadata": {},
   "outputs": [
    {
     "data": {
      "text/plain": [
       "81.85"
      ]
     },
     "execution_count": 182,
     "metadata": {},
     "output_type": "execute_result"
    }
   ],
   "source": [
    "P =  (0.9772-0.1587)*100\n",
    "P"
   ]
  },
  {
   "cell_type": "markdown",
   "id": "3434927b",
   "metadata": {},
   "source": [
    "г) от 166 см до 182 см"
   ]
  },
  {
   "cell_type": "code",
   "execution_count": 183,
   "id": "0c48bd81",
   "metadata": {},
   "outputs": [
    {
     "data": {
      "text/plain": [
       "68.26"
      ]
     },
     "execution_count": 183,
     "metadata": {},
     "output_type": "execute_result"
    }
   ],
   "source": [
    "P = (0.8413-0.1587)*100\n",
    "P"
   ]
  },
  {
   "cell_type": "markdown",
   "id": "649b1403",
   "metadata": {},
   "source": [
    "д) от 158 см до 190 см"
   ]
  },
  {
   "cell_type": "code",
   "execution_count": 184,
   "id": "8c6f6194",
   "metadata": {},
   "outputs": [
    {
     "data": {
      "text/plain": [
       "-2.0"
      ]
     },
     "execution_count": 184,
     "metadata": {},
     "output_type": "execute_result"
    }
   ],
   "source": [
    "Z = (158-174)/8\n",
    "Z"
   ]
  },
  {
   "cell_type": "code",
   "execution_count": 185,
   "id": "23cdff2e",
   "metadata": {},
   "outputs": [
    {
     "data": {
      "text/plain": [
       "2.2800000000000002"
      ]
     },
     "execution_count": 185,
     "metadata": {},
     "output_type": "execute_result"
    }
   ],
   "source": [
    "z = 0.0228\n",
    "P = z * 100\n",
    "P"
   ]
  },
  {
   "cell_type": "code",
   "execution_count": 186,
   "id": "6127d5a2",
   "metadata": {},
   "outputs": [
    {
     "data": {
      "text/plain": [
       "95.44"
      ]
     },
     "execution_count": 186,
     "metadata": {},
     "output_type": "execute_result"
    }
   ],
   "source": [
    "(0.9772-0.0228)*100"
   ]
  },
  {
   "cell_type": "markdown",
   "id": "a94d4a53",
   "metadata": {},
   "source": [
    "е) не выше 150 см или не ниже 190 см"
   ]
  },
  {
   "cell_type": "code",
   "execution_count": 187,
   "id": "905aa01d",
   "metadata": {},
   "outputs": [
    {
     "data": {
      "text/plain": [
       "-3.0"
      ]
     },
     "execution_count": 187,
     "metadata": {},
     "output_type": "execute_result"
    }
   ],
   "source": [
    "Z = (150-174)/8\n",
    "Z"
   ]
  },
  {
   "cell_type": "code",
   "execution_count": 188,
   "id": "5be84e09",
   "metadata": {},
   "outputs": [
    {
     "data": {
      "text/plain": [
       "0.13999999999999999"
      ]
     },
     "execution_count": 188,
     "metadata": {},
     "output_type": "execute_result"
    }
   ],
   "source": [
    "z = 0.0014\n",
    "P = z * 100\n",
    "P"
   ]
  },
  {
   "cell_type": "code",
   "execution_count": 189,
   "id": "264e781f",
   "metadata": {},
   "outputs": [
    {
     "data": {
      "text/plain": [
       "2.42"
      ]
     },
     "execution_count": 189,
     "metadata": {},
     "output_type": "execute_result"
    }
   ],
   "source": [
    "2.28 + 0.14"
   ]
  },
  {
   "cell_type": "markdown",
   "id": "cf591653",
   "metadata": {},
   "source": [
    "ё) не выше 150 см или не ниже 198 см"
   ]
  },
  {
   "cell_type": "code",
   "execution_count": 190,
   "id": "eee4ac20",
   "metadata": {},
   "outputs": [
    {
     "data": {
      "text/plain": [
       "3.0"
      ]
     },
     "execution_count": 190,
     "metadata": {},
     "output_type": "execute_result"
    }
   ],
   "source": [
    "Z = (198-174)/8\n",
    "Z"
   ]
  },
  {
   "cell_type": "code",
   "execution_count": 191,
   "id": "d258945b",
   "metadata": {},
   "outputs": [
    {
     "data": {
      "text/plain": [
       "0.12999999999999678"
      ]
     },
     "execution_count": 191,
     "metadata": {},
     "output_type": "execute_result"
    }
   ],
   "source": [
    "(1 -0.9987)*100"
   ]
  },
  {
   "cell_type": "code",
   "execution_count": 192,
   "id": "ff6d2d1d",
   "metadata": {},
   "outputs": [
    {
     "data": {
      "text/plain": [
       "2.4099999999999997"
      ]
     },
     "execution_count": 192,
     "metadata": {},
     "output_type": "execute_result"
    }
   ],
   "source": [
    "2.28 + 0.13"
   ]
  },
  {
   "cell_type": "markdown",
   "id": "d5e2d87a",
   "metadata": {},
   "source": [
    "ж) ниже 166 см"
   ]
  },
  {
   "cell_type": "code",
   "execution_count": 193,
   "id": "1960a8b0",
   "metadata": {},
   "outputs": [
    {
     "data": {
      "text/plain": [
       "3.0"
      ]
     },
     "execution_count": 193,
     "metadata": {},
     "output_type": "execute_result"
    }
   ],
   "source": [
    "Z = (198-174)/8\n",
    "Z"
   ]
  },
  {
   "cell_type": "code",
   "execution_count": 194,
   "id": "577cd136",
   "metadata": {},
   "outputs": [
    {
     "data": {
      "text/plain": [
       "15.870000000000001"
      ]
     },
     "execution_count": 194,
     "metadata": {},
     "output_type": "execute_result"
    }
   ],
   "source": [
    "0.1587*100"
   ]
  },
  {
   "cell_type": "markdown",
   "id": "905d4c6d",
   "metadata": {},
   "source": [
    "## Задача 5 \n",
    "\n",
    "На сколько сигм (средних квадратичных отклонений) отклоняется рост человека, равный 190 см, от\n",
    "математического ожидания роста в популяции, в которой M(X) = 178 см и D(X) = 25 кв.см"
   ]
  },
  {
   "cell_type": "code",
   "execution_count": 195,
   "id": "12536ce7",
   "metadata": {},
   "outputs": [
    {
     "data": {
      "text/plain": [
       "2.4"
      ]
     },
     "execution_count": 195,
     "metadata": {},
     "output_type": "execute_result"
    }
   ],
   "source": [
    "(190-178)/5"
   ]
  }
 ],
 "metadata": {
  "kernelspec": {
   "display_name": "Python 3 (ipykernel)",
   "language": "python",
   "name": "python3"
  },
  "language_info": {
   "codemirror_mode": {
    "name": "ipython",
    "version": 3
   },
   "file_extension": ".py",
   "mimetype": "text/x-python",
   "name": "python",
   "nbconvert_exporter": "python",
   "pygments_lexer": "ipython3",
   "version": "3.9.12"
  }
 },
 "nbformat": 4,
 "nbformat_minor": 5
}
