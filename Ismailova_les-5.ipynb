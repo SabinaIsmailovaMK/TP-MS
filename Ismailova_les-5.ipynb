{
 "cells": [
  {
   "cell_type": "code",
   "execution_count": 21,
   "id": "9ef5453d",
   "metadata": {},
   "outputs": [],
   "source": [
    "import numpy as np\n",
    "import pandas as pd\n",
    "from statsmodels.stats.weightstats import _tconfint_generic as t_stat\n",
    "from scipy.stats import norm \n",
    "import math\n",
    "from scipy import stats"
   ]
  },
  {
   "cell_type": "markdown",
   "id": "7aaadff6",
   "metadata": {},
   "source": [
    "## 1\n",
    "\n",
    "Известно, что генеральная совокупность распределена нормально\n",
    "со средним квадратическим отклонением, равным 16.\n",
    "Найти доверительный интервал для оценки математического ожидания a с надежностью 0.95,\n",
    "если выборочная средняя M = 80, а объем выборки n = 256.\n"
   ]
  },
  {
   "cell_type": "code",
   "execution_count": 22,
   "id": "0482395f",
   "metadata": {},
   "outputs": [],
   "source": [
    "t = 1.65\n",
    "std = 16\n",
    "M = 80 \n",
    "n = 256\n",
    "a = 0.05 \n",
    "Z = 1.96 #из таблицы"
   ]
  },
  {
   "cell_type": "code",
   "execution_count": 23,
   "id": "829d8a95",
   "metadata": {},
   "outputs": [
    {
     "data": {
      "text/plain": [
       "78.04"
      ]
     },
     "execution_count": 23,
     "metadata": {},
     "output_type": "execute_result"
    }
   ],
   "source": [
    "80-1.96*16/math.sqrt(256)"
   ]
  },
  {
   "cell_type": "code",
   "execution_count": 24,
   "id": "c109d724",
   "metadata": {},
   "outputs": [
    {
     "data": {
      "text/plain": [
       "81.96"
      ]
     },
     "execution_count": 24,
     "metadata": {},
     "output_type": "execute_result"
    }
   ],
   "source": [
    "80+1.96*16/math.sqrt(256)"
   ]
  },
  {
   "cell_type": "markdown",
   "id": "72eb3900",
   "metadata": {},
   "source": [
    "## 2\n",
    "\n",
    "В результате 10 независимых измерений некоторой величины X, выполненных с одинаковой точностью,\n",
    "получены опытные данные:\n",
    "6.9, 6.1, 6.2, 6.8, 7.5, 6.3, 6.4, 6.9, 6.7, 6.1\n",
    "Предполагая, что результаты измерений подчинены нормальному закону распределения вероятностей,\n",
    "оценить истинное значение величины X при помощи доверительного интервала, покрывающего это\n",
    "значение с доверительной вероятностью 0,95."
   ]
  },
  {
   "cell_type": "code",
   "execution_count": 25,
   "id": "5cd72df5",
   "metadata": {},
   "outputs": [],
   "source": [
    "X = np.array([6.9, 6.1, 6.2, 6.8, 7.5, 6.3, 6.4, 6.9, 6.7, 6.1])\n",
    "mean_X = X.mean()\n",
    "std_X = X.std(ddof=1)\n",
    "mean_std_X = std_X / (np.sqrt(len(X)))"
   ]
  },
  {
   "cell_type": "code",
   "execution_count": 26,
   "id": "cbf36c1e",
   "metadata": {},
   "outputs": [
    {
     "data": {
      "text/plain": [
       "(6.267515851415713, 6.912484148584288)"
      ]
     },
     "execution_count": 26,
     "metadata": {},
     "output_type": "execute_result"
    }
   ],
   "source": [
    "t_stat(mean_X, mean_std_X,len(X) - 1, 0.05, 'two-sided')"
   ]
  },
  {
   "cell_type": "markdown",
   "id": "91c53d42",
   "metadata": {},
   "source": [
    "## 3\n",
    "\n",
    "Проведите тест гипотезы. Утверждается, что шарики для подшипников, изготовленные автоматическим станком, имеют средний диаметр 17 мм.\n",
    "Используя односторонний критерий с α=0,05, проверить эту гипотезу, если в выборке из n=100 шариков средний диаметр\n",
    "оказался равным 17.5 мм, а дисперсия известна и равна 4 кв. мм."
   ]
  },
  {
   "cell_type": "code",
   "execution_count": 28,
   "id": "a6558459",
   "metadata": {},
   "outputs": [],
   "source": [
    "H0: M = 17\n",
    "H1: M = 17.5\n",
    "a= 0.05, #Zт= 1.645\n",
    "D =4\n",
    "n=100  "
   ]
  },
  {
   "cell_type": "code",
   "execution_count": 29,
   "id": "d6756af4",
   "metadata": {},
   "outputs": [
    {
     "data": {
      "text/plain": [
       "2.5"
      ]
     },
     "execution_count": 29,
     "metadata": {},
     "output_type": "execute_result"
    }
   ],
   "source": [
    "Z_fact = (17.5-17)/(np.sqrt(D)/np.sqrt(n))\n",
    "Z_fact"
   ]
  },
  {
   "cell_type": "markdown",
   "id": "3c6c5f0c",
   "metadata": {},
   "source": [
    "Zт < Z_fact. Принимаем H(1)"
   ]
  },
  {
   "cell_type": "markdown",
   "id": "39ee30eb",
   "metadata": {},
   "source": [
    "## 4\n",
    "\n",
    "Проведите тест гипотезы. Продавец утверждает, что средний вес пачки печенья составляет 200 г.\n",
    "Из партии извлечена выборка из 10 пачек. Вес каждой пачки составляет:\n",
    "202, 203, 199, 197, 195, 201, 200, 204, 194, 190.\n",
    "Известно, что их веса распределены нормально.\n",
    "Верно ли утверждение продавца, если учитывать, что доверительная вероятность равна 99%? (Провести двусторонний тест.)"
   ]
  },
  {
   "cell_type": "code",
   "execution_count": 30,
   "id": "2fc5fbee",
   "metadata": {},
   "outputs": [],
   "source": [
    "H0: M = 200\n",
    "\n",
    "H1: M != 200"
   ]
  },
  {
   "cell_type": "code",
   "execution_count": 31,
   "id": "3a4d00a9",
   "metadata": {},
   "outputs": [],
   "source": [
    "X = np.array([202, 203, 199, 197, 195, 201, 200, 204, 194, 190])\n",
    "mean_X = X.mean()\n",
    "std_X = X.std(ddof=1)"
   ]
  },
  {
   "cell_type": "code",
   "execution_count": 33,
   "id": "0ad1cfd9",
   "metadata": {},
   "outputs": [
    {
     "data": {
      "text/plain": [
       "1.0651074037450896"
      ]
     },
     "execution_count": 33,
     "metadata": {},
     "output_type": "execute_result"
    }
   ],
   "source": [
    "t_fact = (200 - np.mean(X)) / std_X * np.sqrt(10)\n",
    "t_fact"
   ]
  },
  {
   "cell_type": "code",
   "execution_count": null,
   "id": "15b33403",
   "metadata": {},
   "outputs": [],
   "source": [
    "t_cr = 3.25"
   ]
  },
  {
   "cell_type": "markdown",
   "id": "873cf01b",
   "metadata": {},
   "source": [
    "т.к. abs(t_fact) < t_cr,  H0- верна"
   ]
  }
 ],
 "metadata": {
  "kernelspec": {
   "display_name": "Python 3 (ipykernel)",
   "language": "python",
   "name": "python3"
  },
  "language_info": {
   "codemirror_mode": {
    "name": "ipython",
    "version": 3
   },
   "file_extension": ".py",
   "mimetype": "text/x-python",
   "name": "python",
   "nbconvert_exporter": "python",
   "pygments_lexer": "ipython3",
   "version": "3.9.12"
  }
 },
 "nbformat": 4,
 "nbformat_minor": 5
}
