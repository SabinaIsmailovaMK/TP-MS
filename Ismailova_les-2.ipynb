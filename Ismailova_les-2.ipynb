{
 "cells": [
  {
   "cell_type": "code",
   "execution_count": 50,
   "id": "eecf52b8",
   "metadata": {},
   "outputs": [],
   "source": [
    "import numpy as np\n",
    "from math import factorial\n",
    "def combinations(n, k):\n",
    "    return int(factorial(n) / (factorial(k) * factorial(n - k)))"
   ]
  },
  {
   "cell_type": "markdown",
   "id": "1ff16c29",
   "metadata": {},
   "source": [
    "### Задача 1\n",
    "\n",
    "Вероятность того, что стрелок попадет в мишень, выстрелив один раз, равна 0.8. Стрелок выстрелил 100 раз. Найдите вероятность того, что стрелок попадет в цель ровно 85 раз\n"
   ]
  },
  {
   "cell_type": "code",
   "execution_count": 70,
   "id": "13f4357b",
   "metadata": {},
   "outputs": [
    {
     "data": {
      "text/plain": [
       "0.048061793700746355"
      ]
     },
     "execution_count": 70,
     "metadata": {},
     "output_type": "execute_result"
    }
   ],
   "source": [
    "n = 100\n",
    "k = 85\n",
    "p = 0.8 \n",
    "\n",
    "\n",
    "P = combinations(n, k) * (p ** k) * (1 - p) ** (n - k)\n",
    "P"
   ]
  },
  {
   "cell_type": "markdown",
   "id": "858a05eb",
   "metadata": {},
   "source": [
    "Вероятность того, что стрелок попадет в цель ровно 85 раз - 4,8%"
   ]
  },
  {
   "cell_type": "markdown",
   "id": "97157b5f",
   "metadata": {},
   "source": [
    "### Задача 2\n",
    "\n",
    "Вероятность того, что лампочка перегорит в течение первого дня эксплуатации, равна 0.0004. В жилом комплексе после ремонта в один день включили 5000 новых лампочек. Какова вероятность, что ни одна из них не перегорит в первый день? Какова вероятность, что перегорят ровно две?"
   ]
  },
  {
   "cell_type": "code",
   "execution_count": 92,
   "id": "9686e414",
   "metadata": {},
   "outputs": [
    {
     "data": {
      "text/plain": [
       "0.1353352832366127"
      ]
     },
     "execution_count": 92,
     "metadata": {},
     "output_type": "execute_result"
    }
   ],
   "source": [
    "p = 0.0004\n",
    "m = 0\n",
    "n = 5000\n",
    "lambda_ = n * p\n",
    "\n",
    "(lambda_**m / np.math.factorial(m)) * np.exp(-lambda_)"
   ]
  },
  {
   "cell_type": "code",
   "execution_count": 100,
   "id": "969cfd26",
   "metadata": {},
   "outputs": [
    {
     "data": {
      "text/plain": [
       "0.2706705664732254"
      ]
     },
     "execution_count": 100,
     "metadata": {},
     "output_type": "execute_result"
    }
   ],
   "source": [
    "m = 2\n",
    "(lambda_ ** m / np.math.factorial(m)) * np.exp(-lambda_)"
   ]
  },
  {
   "cell_type": "markdown",
   "id": "071dc504",
   "metadata": {},
   "source": [
    "Вероятность, что ни одна из них не перегорит в первый день - 13,5%\n",
    "Вероятность, что перегорят ровно две - 27,1%"
   ]
  },
  {
   "cell_type": "markdown",
   "id": "13d40b53",
   "metadata": {},
   "source": [
    "### Задача 3\n",
    "\n",
    "Монету подбросили 144 раза. Какова вероятность, что орел выпадет ровно 70 раз?\n"
   ]
  },
  {
   "cell_type": "code",
   "execution_count": 99,
   "id": "e051819e",
   "metadata": {},
   "outputs": [
    {
     "data": {
      "text/plain": [
       "0.06281178035144776"
      ]
     },
     "execution_count": 99,
     "metadata": {},
     "output_type": "execute_result"
    }
   ],
   "source": [
    "n = 144\n",
    "k = 70\n",
    "p = 0.5 \n",
    "\n",
    "\n",
    "P = combinations(n, k) * (p ** k) * (1 - p) ** (n - k)\n",
    "P"
   ]
  },
  {
   "cell_type": "markdown",
   "id": "7d061293",
   "metadata": {},
   "source": [
    "Вероятность, что орел выпадет ровно 70 раз - 6,3%"
   ]
  },
  {
   "cell_type": "markdown",
   "id": "98a1726a",
   "metadata": {},
   "source": [
    "### Задача 4\n",
    "\n",
    "В первом ящике находится 10 мячей, из которых 7 - белые. Во втором ящике - 11 мячей, из которых 9 белых. Из каждого ящика вытаскивают случайным образом по два мяча. Какова вероятность того, что все мячи белые? Какова вероятность того, что ровно два мяча белые? Какова вероятность того, что хотя бы один мяч белый?"
   ]
  },
  {
   "cell_type": "code",
   "execution_count": 158,
   "id": "bb3ea0a0",
   "metadata": {},
   "outputs": [
    {
     "data": {
      "text/plain": [
       "0.4666666666666667"
      ]
     },
     "execution_count": 158,
     "metadata": {},
     "output_type": "execute_result"
    }
   ],
   "source": [
    "A = (combinations(7, 2) * combinations(3, 0)) / combinations(10, 2)\n",
    "A"
   ]
  },
  {
   "cell_type": "code",
   "execution_count": 159,
   "id": "1aa71450",
   "metadata": {},
   "outputs": [
    {
     "data": {
      "text/plain": [
       "0.6545454545454545"
      ]
     },
     "execution_count": 159,
     "metadata": {},
     "output_type": "execute_result"
    }
   ],
   "source": [
    "B = (combinations(9, 2) * combinations(2, 0)) / combinations(11, 2)\n",
    "B"
   ]
  },
  {
   "cell_type": "code",
   "execution_count": 187,
   "id": "79f1b54f",
   "metadata": {},
   "outputs": [
    {
     "data": {
      "text/plain": [
       "0.3054545454545455"
      ]
     },
     "execution_count": 187,
     "metadata": {},
     "output_type": "execute_result"
    }
   ],
   "source": [
    "P4 = A * B\n",
    "P4"
   ]
  },
  {
   "cell_type": "markdown",
   "id": "51062bb1",
   "metadata": {},
   "source": [
    "Вероятность того, что все мячи белые - 30.5%"
   ]
  },
  {
   "cell_type": "code",
   "execution_count": 207,
   "id": "fe4d30c9",
   "metadata": {},
   "outputs": [
    {
     "data": {
      "text/plain": [
       "0.20484848484848484"
      ]
     },
     "execution_count": 207,
     "metadata": {},
     "output_type": "execute_result"
    }
   ],
   "source": [
    "P2 = (7/10)*(6/9)*(2/11)*(1/10) + (7/10)*(3/9)*(9/11)*(2/10) + (7/10)*(3/9)*(2/11)*(9/10) + (3/10)*(7/9)*(9/11)*(2/10) + (3/10)*(7/9)*(2/11)*(9/10) + (3/10)*(2/9)*(9/11)*(8/10)\n",
    "P2"
   ]
  },
  {
   "cell_type": "markdown",
   "id": "baf64d97",
   "metadata": {},
   "source": [
    "Вероятность того, что ровно два мяча белые - 1,94% "
   ]
  },
  {
   "cell_type": "code",
   "execution_count": 204,
   "id": "3e316a4a",
   "metadata": {},
   "outputs": [
    {
     "data": {
      "text/plain": [
       "0.0012121212121212121"
      ]
     },
     "execution_count": 204,
     "metadata": {},
     "output_type": "execute_result"
    }
   ],
   "source": [
    "P0 = ((combinations(3, 2) * combinations(7, 0)) / combinations(10, 2))*(combinations(2, 2) * combinations(2, 0)) / combinations(11, 2)\n",
    "P0"
   ]
  },
  {
   "cell_type": "code",
   "execution_count": 196,
   "id": "82189ac6",
   "metadata": {},
   "outputs": [
    {
     "data": {
      "text/plain": [
       "0.9987878787878788"
      ]
     },
     "execution_count": 196,
     "metadata": {},
     "output_type": "execute_result"
    }
   ],
   "source": [
    "P = 1 - P0 \n",
    "P"
   ]
  },
  {
   "cell_type": "markdown",
   "id": "13b5c97d",
   "metadata": {},
   "source": [
    "Вероятность того, что хотя бы один мяч белый - 99,8 %"
   ]
  }
 ],
 "metadata": {
  "kernelspec": {
   "display_name": "Python 3 (ipykernel)",
   "language": "python",
   "name": "python3"
  },
  "language_info": {
   "codemirror_mode": {
    "name": "ipython",
    "version": 3
   },
   "file_extension": ".py",
   "mimetype": "text/x-python",
   "name": "python",
   "nbconvert_exporter": "python",
   "pygments_lexer": "ipython3",
   "version": "3.9.12"
  }
 },
 "nbformat": 4,
 "nbformat_minor": 5
}
