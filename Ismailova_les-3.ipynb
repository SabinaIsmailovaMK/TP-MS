{
 "cells": [
  {
   "cell_type": "code",
   "execution_count": 53,
   "id": "23b2a614",
   "metadata": {},
   "outputs": [],
   "source": [
    "import numpy as np\n",
    "import pandas as pd\n",
    "import matplotlib.pyplot as plt\n",
    "from math import factorial as fl\n",
    "\n",
    "def combinations(k, n):\n",
    "    return fl(n) / (fl(k) * fl(n - k))"
   ]
  },
  {
   "cell_type": "markdown",
   "id": "c302064c",
   "metadata": {},
   "source": [
    "## Задача 1\n",
    "\n",
    "Даны значения зарплат из выборки выпускников: 100, 80, 75, 77, 89, 33, 45, 25, 65, 17, 30, 24, 57, 55, 70, 75, 65, 84, 90, 150. Посчитать (желательно без использования статистических методов наподобие std, var, mean):\n"
   ]
  },
  {
   "cell_type": "code",
   "execution_count": 54,
   "id": "1524e2e7",
   "metadata": {},
   "outputs": [],
   "source": [
    "sal = np.array([100, 80, 75, 77, 89, 33, 45, 25, 65, 17, 30, 24, 57, 55, 70, 75, 65, 84, 90, 150])"
   ]
  },
  {
   "cell_type": "markdown",
   "id": "68039f43",
   "metadata": {},
   "source": [
    "Среднее арифметическое "
   ]
  },
  {
   "cell_type": "code",
   "execution_count": 55,
   "id": "ae710425",
   "metadata": {},
   "outputs": [
    {
     "data": {
      "text/plain": [
       "65.3"
      ]
     },
     "execution_count": 55,
     "metadata": {},
     "output_type": "execute_result"
    }
   ],
   "source": [
    "sal_mean = sal.sum() / sal.size\n",
    "sal_mean"
   ]
  },
  {
   "cell_type": "markdown",
   "id": "ede3c5da",
   "metadata": {},
   "source": [
    "Cреднее квадратичное отклонение"
   ]
  },
  {
   "cell_type": "code",
   "execution_count": 56,
   "id": "d08ca524",
   "metadata": {},
   "outputs": [
    {
     "data": {
      "text/plain": [
       "30.823854398825596"
      ]
     },
     "execution_count": 56,
     "metadata": {},
     "output_type": "execute_result"
    }
   ],
   "source": [
    "(np.sum((sal - sal_mean)**2) / sal.size)**0.5"
   ]
  },
  {
   "cell_type": "markdown",
   "id": "21182ff9",
   "metadata": {},
   "source": [
    "Cмещенная дисперсия"
   ]
  },
  {
   "cell_type": "code",
   "execution_count": 57,
   "id": "b590f11f",
   "metadata": {},
   "outputs": [
    {
     "data": {
      "text/plain": [
       "950.11"
      ]
     },
     "execution_count": 57,
     "metadata": {},
     "output_type": "execute_result"
    }
   ],
   "source": [
    "np.sum((sal - sal_mean)**2) / sal.size"
   ]
  },
  {
   "cell_type": "markdown",
   "id": "2f945cb9",
   "metadata": {},
   "source": [
    "Несмещенная дисперсия"
   ]
  },
  {
   "cell_type": "code",
   "execution_count": 58,
   "id": "3432fe04",
   "metadata": {},
   "outputs": [
    {
     "data": {
      "text/plain": [
       "1000.1157894736842"
      ]
     },
     "execution_count": 58,
     "metadata": {},
     "output_type": "execute_result"
    }
   ],
   "source": [
    "np.sum((sal- sal_mean)**2) / (sal.size - 1)"
   ]
  },
  {
   "cell_type": "markdown",
   "id": "8f297fb9",
   "metadata": {},
   "source": [
    "## Задача 2 \n",
    "\n",
    "В первом ящике находится 8 мячей, из которых 5 - белые. Во втором ящике - 12 мячей, из которых 5 белых. Из первого ящика вытаскивают случайным образом два мяча, из второго - 4. Какова вероятность того, что 3 мяча белые?"
   ]
  },
  {
   "cell_type": "code",
   "execution_count": 68,
   "id": "a644842a",
   "metadata": {},
   "outputs": [
    {
     "data": {
      "text/plain": [
       "0.12626262626262627"
      ]
     },
     "execution_count": 68,
     "metadata": {},
     "output_type": "execute_result"
    }
   ],
   "source": [
    "P1 = (combinations(2,5)/combinations(2,8))*((combinations(3,7)*combinations(1,5))/combinations(4,12))\n",
    "P1"
   ]
  },
  {
   "cell_type": "code",
   "execution_count": 78,
   "id": "08a25240",
   "metadata": {},
   "outputs": [
    {
     "data": {
      "text/plain": [
       "0.22727272727272727"
      ]
     },
     "execution_count": 78,
     "metadata": {},
     "output_type": "execute_result"
    }
   ],
   "source": [
    "P2 = ((combinations(1,3) * combinations(1,5))/combinations(2,8))*(combinations(2,5)*(combinations(2,7)/combinations(4,12)))                 \n",
    "P2"
   ]
  },
  {
   "cell_type": "code",
   "execution_count": 79,
   "id": "e3d9ddde",
   "metadata": {},
   "outputs": [
    {
     "data": {
      "text/plain": [
       "0.01515151515151515"
      ]
     },
     "execution_count": 79,
     "metadata": {},
     "output_type": "execute_result"
    }
   ],
   "source": [
    "P3 = (combinations(2,3)/combinations(2,8))*((combinations(3,5)*combinations(1,7))/combinations(4,12))\n",
    "P3"
   ]
  },
  {
   "cell_type": "code",
   "execution_count": 80,
   "id": "232b7ae0",
   "metadata": {},
   "outputs": [
    {
     "data": {
      "text/plain": [
       "0.3686868686868687"
      ]
     },
     "execution_count": 80,
     "metadata": {},
     "output_type": "execute_result"
    }
   ],
   "source": [
    "P = P1+P2+P3\n",
    "P"
   ]
  },
  {
   "cell_type": "markdown",
   "id": "9617c379",
   "metadata": {},
   "source": [
    "## Задача 3\n",
    "\n",
    "На соревновании по биатлону один из трех спортсменов стреляет и попадает в мишень. Вероятность попадания для первого спортсмена равна 0.9, для второго — 0.8, для третьего — 0.6. Найти вероятность того, что выстрел произведен:\n",
    "\n",
    "\n"
   ]
  },
  {
   "cell_type": "code",
   "execution_count": 60,
   "id": "fcbaff23",
   "metadata": {},
   "outputs": [
    {
     "data": {
      "text/plain": [
       "0.7666666666666666"
      ]
     },
     "execution_count": 60,
     "metadata": {},
     "output_type": "execute_result"
    }
   ],
   "source": [
    "M = 1/3 * 0.9 + 1/3 * 0.8 + 1/3 * 0.6\n",
    "M"
   ]
  },
  {
   "cell_type": "code",
   "execution_count": 61,
   "id": "811aa9fe",
   "metadata": {},
   "outputs": [
    {
     "data": {
      "text/plain": [
       "0.391304347826087"
      ]
     },
     "execution_count": 61,
     "metadata": {},
     "output_type": "execute_result"
    }
   ],
   "source": [
    "P1 = (1/3 * 0.9) / M\n",
    "P1"
   ]
  },
  {
   "cell_type": "code",
   "execution_count": null,
   "id": "e40d0410",
   "metadata": {},
   "outputs": [],
   "source": [
    "P2 = (1/3 * 0.8) / M\n",
    "P2"
   ]
  },
  {
   "cell_type": "code",
   "execution_count": null,
   "id": "680240b9",
   "metadata": {},
   "outputs": [],
   "source": [
    "P3 = (1/3 * 0.8) / M\n",
    "P3"
   ]
  },
  {
   "cell_type": "markdown",
   "id": "bb5d80c1",
   "metadata": {},
   "source": [
    "## Задача 4\n",
    "\n",
    "В университет на факультеты A и B поступило равное количество студентов, а на факультет C студентов поступило столько же, сколько на A и B вместе. Вероятность того, что студент факультета A сдаст первую сессию, равна 0.8. Для студента факультета B эта вероятность равна 0.7, а для студента факультета C - 0.9. Студент сдал первую сессию. Какова вероятность, что он учится: a). на факультете A б). на факультете B в). на факультете C?\n"
   ]
  },
  {
   "cell_type": "code",
   "execution_count": null,
   "id": "0443073c",
   "metadata": {},
   "outputs": [],
   "source": [
    "M = 1/4 * 0.8 + 1/4 * 0.7 + 1/2 * 0.9\n",
    "M"
   ]
  },
  {
   "cell_type": "code",
   "execution_count": null,
   "id": "805d2037",
   "metadata": {},
   "outputs": [],
   "source": [
    "P1 = (1/4 * 0.8) / M\n",
    "P1"
   ]
  },
  {
   "cell_type": "code",
   "execution_count": null,
   "id": "e941c6e3",
   "metadata": {},
   "outputs": [],
   "source": [
    "P2 = (1/4 * 0.7) / M\n",
    "P2"
   ]
  },
  {
   "cell_type": "code",
   "execution_count": null,
   "id": "6fc9a245",
   "metadata": {},
   "outputs": [],
   "source": [
    "P3 = (1/2 * 0.9) / M\n",
    "P3"
   ]
  },
  {
   "cell_type": "markdown",
   "id": "a2bfa65b",
   "metadata": {},
   "source": [
    "## Задача 5\n",
    "\n",
    "Устройство состоит из трех деталей. Для первой детали вероятность выйти из строя в первый месяц равна 0.1, для второй - 0.2, для третьей - 0.25. Какова вероятность того, что в первый месяц выйдут из строя: а). все детали б). только две детали в). хотя бы одна деталь г). от одной до двух деталей?"
   ]
  },
  {
   "cell_type": "code",
   "execution_count": 86,
   "id": "4a8ac7e3",
   "metadata": {},
   "outputs": [],
   "source": [
    "p1 = 0.1\n",
    "p2 = 0.2\n",
    "p3 = 0.25 "
   ]
  },
  {
   "cell_type": "raw",
   "id": "df14aa9e",
   "metadata": {},
   "source": [
    "а) все детали "
   ]
  },
  {
   "cell_type": "code",
   "execution_count": 87,
   "id": "772cb264",
   "metadata": {},
   "outputs": [
    {
     "data": {
      "text/plain": [
       "0.005000000000000001"
      ]
     },
     "execution_count": 87,
     "metadata": {},
     "output_type": "execute_result"
    }
   ],
   "source": [
    "P = p1 * p2 * p3\n",
    "P"
   ]
  },
  {
   "cell_type": "markdown",
   "id": "68a14521",
   "metadata": {},
   "source": [
    "б) только две детали"
   ]
  },
  {
   "cell_type": "code",
   "execution_count": 90,
   "id": "a11f60f5",
   "metadata": {},
   "outputs": [
    {
     "data": {
      "text/plain": [
       "0.08000000000000002"
      ]
     },
     "execution_count": 90,
     "metadata": {},
     "output_type": "execute_result"
    }
   ],
   "source": [
    "p1 * p2 * 0.75 + 0.9 * p2 * p3 + p1 * 0.8 * p3"
   ]
  },
  {
   "cell_type": "markdown",
   "id": "09f8896a",
   "metadata": {},
   "source": [
    "в) хотя бы одна деталь "
   ]
  },
  {
   "cell_type": "code",
   "execution_count": 97,
   "id": "fbf094bc",
   "metadata": {},
   "outputs": [
    {
     "data": {
      "text/plain": [
       "0.45999999999999996"
      ]
     },
     "execution_count": 97,
     "metadata": {},
     "output_type": "execute_result"
    }
   ],
   "source": [
    "1 - (1-p1) * (1-p2) * (1-p3)"
   ]
  },
  {
   "cell_type": "markdown",
   "id": "c29dca5c",
   "metadata": {},
   "source": [
    "г) от одной до двух деталей"
   ]
  },
  {
   "cell_type": "code",
   "execution_count": 99,
   "id": "d9a75df4",
   "metadata": {},
   "outputs": [
    {
     "data": {
      "text/plain": [
       "0.46499999999999997"
      ]
     },
     "execution_count": 99,
     "metadata": {},
     "output_type": "execute_result"
    }
   ],
   "source": [
    "1 - (1-p1) * (1-p2) * (1-p3) + p1 *p2 *p3"
   ]
  }
 ],
 "metadata": {
  "kernelspec": {
   "display_name": "Python 3 (ipykernel)",
   "language": "python",
   "name": "python3"
  },
  "language_info": {
   "codemirror_mode": {
    "name": "ipython",
    "version": 3
   },
   "file_extension": ".py",
   "mimetype": "text/x-python",
   "name": "python",
   "nbconvert_exporter": "python",
   "pygments_lexer": "ipython3",
   "version": "3.9.12"
  }
 },
 "nbformat": 4,
 "nbformat_minor": 5
}
