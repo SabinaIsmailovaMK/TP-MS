{
 "cells": [
  {
   "cell_type": "code",
   "execution_count": 99,
   "id": "c2d043e5",
   "metadata": {},
   "outputs": [],
   "source": [
    "import numpy as np\n",
    "import pandas as pd\n",
    "import matplotlib.pyplot as plt\n",
    "from math import factorial as fl\n",
    "\n",
    "def combinations(k, n):\n",
    "    return fl(n) / (fl(k) * fl(n - k))"
   ]
  },
  {
   "cell_type": "markdown",
   "id": "5c554b3e",
   "metadata": {},
   "source": [
    "## Задача 1\n",
    "\n",
    "Даны значения зарплат из выборки выпускников: 100, 80, 75, 77, 89, 33, 45, 25, 65, 17, 30, 24, 57, 55, 70, 75, 65, 84, 90, 150. Посчитать (желательно без использования статистических методов наподобие std, var, mean):\n"
   ]
  },
  {
   "cell_type": "code",
   "execution_count": 89,
   "id": "4fa7a2a8",
   "metadata": {},
   "outputs": [],
   "source": [
    "sal = np.array([100, 80, 75, 77, 89, 33, 45, 25, 65, 17, 30, 24, 57, 55, 70, 75, 65, 84, 90, 150])"
   ]
  },
  {
   "cell_type": "markdown",
   "id": "cc4a5bdf",
   "metadata": {},
   "source": [
    "Среднее арифметическое "
   ]
  },
  {
   "cell_type": "code",
   "execution_count": 90,
   "id": "e8131c8a",
   "metadata": {},
   "outputs": [
    {
     "data": {
      "text/plain": [
       "65.3"
      ]
     },
     "execution_count": 90,
     "metadata": {},
     "output_type": "execute_result"
    }
   ],
   "source": [
    "sal_mean = sal.sum() / sal.size\n",
    "sal_mean"
   ]
  },
  {
   "cell_type": "markdown",
   "id": "0f703bf2",
   "metadata": {},
   "source": [
    "Cреднее квадратичное отклонение"
   ]
  },
  {
   "cell_type": "code",
   "execution_count": 91,
   "id": "51868c10",
   "metadata": {},
   "outputs": [
    {
     "data": {
      "text/plain": [
       "30.823854398825596"
      ]
     },
     "execution_count": 91,
     "metadata": {},
     "output_type": "execute_result"
    }
   ],
   "source": [
    "(np.sum((sal - sal_mean)**2) / sal.size)**0.5"
   ]
  },
  {
   "cell_type": "markdown",
   "id": "d3b40357",
   "metadata": {},
   "source": [
    "Cмещенная дисперсия"
   ]
  },
  {
   "cell_type": "code",
   "execution_count": 92,
   "id": "db6f8430",
   "metadata": {},
   "outputs": [
    {
     "data": {
      "text/plain": [
       "950.11"
      ]
     },
     "execution_count": 92,
     "metadata": {},
     "output_type": "execute_result"
    }
   ],
   "source": [
    "np.sum((sal - sal_mean)**2) / sal.size"
   ]
  },
  {
   "cell_type": "markdown",
   "id": "d80de7f9",
   "metadata": {},
   "source": [
    "Несмещенная дисперсия"
   ]
  },
  {
   "cell_type": "code",
   "execution_count": 93,
   "id": "26f09604",
   "metadata": {},
   "outputs": [
    {
     "data": {
      "text/plain": [
       "1000.1157894736842"
      ]
     },
     "execution_count": 93,
     "metadata": {},
     "output_type": "execute_result"
    }
   ],
   "source": [
    "np.sum((sal- sal_mean)**2) / (sal.size - 1)"
   ]
  },
  {
   "cell_type": "markdown",
   "id": "5d042965",
   "metadata": {},
   "source": [
    "## Задача 2 \n",
    "\n",
    "В первом ящике находится 8 мячей, из которых 5 - белые. Во втором ящике - 12 мячей, из которых 5 белых. Из первого ящика вытаскивают случайным образом два мяча, из второго - 4. Какова вероятность того, что 3 мяча белые?"
   ]
  },
  {
   "cell_type": "code",
   "execution_count": 94,
   "id": "51b2e334",
   "metadata": {},
   "outputs": [
    {
     "data": {
      "text/plain": [
       "0.054292929292929296"
      ]
     },
     "execution_count": 94,
     "metadata": {},
     "output_type": "execute_result"
    }
   ],
   "source": [
    "5/8*4/7*5/12*7/11*6/10*5/9+5/8*5/12*4/11*3/7*7/10*6/9+5/12*4/11*3/10*3/8*2/7*7/9"
   ]
  },
  {
   "cell_type": "code",
   "execution_count": 95,
   "id": "eacc3fa4",
   "metadata": {},
   "outputs": [
    {
     "ename": "SyntaxError",
     "evalue": "invalid syntax (2421594431.py, line 1)",
     "output_type": "error",
     "traceback": [
      "\u001b[0;36m  Input \u001b[0;32mIn [95]\u001b[0;36m\u001b[0m\n\u001b[0;31m    P1 = P1 = def combinations(k, n) * def combinations(8, 5)\u001b[0m\n\u001b[0m              ^\u001b[0m\n\u001b[0;31mSyntaxError\u001b[0m\u001b[0;31m:\u001b[0m invalid syntax\n"
     ]
    }
   ],
   "source": [
    "P1 = P1 = def combinations(k, n) * def combinations(8, 5) "
   ]
  },
  {
   "cell_type": "markdown",
   "id": "4c09e5d9",
   "metadata": {},
   "source": [
    "## Задача 3\n",
    "\n",
    "На соревновании по биатлону один из трех спортсменов стреляет и попадает в мишень. Вероятность попадания для первого спортсмена равна 0.9, для второго — 0.8, для третьего — 0.6. Найти вероятность того, что выстрел произведен:\n",
    "\n",
    "\n"
   ]
  },
  {
   "cell_type": "code",
   "execution_count": null,
   "id": "dee3c8da",
   "metadata": {},
   "outputs": [],
   "source": [
    "M = 1/3 * 0.9 + 1/3 * 0.8 + 1/3 * 0.6\n",
    "M"
   ]
  },
  {
   "cell_type": "code",
   "execution_count": null,
   "id": "c56005c1",
   "metadata": {},
   "outputs": [],
   "source": [
    "P1 = (1/3 * 0.9) / M\n",
    "P1"
   ]
  },
  {
   "cell_type": "code",
   "execution_count": null,
   "id": "edb7f2e9",
   "metadata": {},
   "outputs": [],
   "source": [
    "P2 = (1/3 * 0.8) / M\n",
    "P2"
   ]
  },
  {
   "cell_type": "code",
   "execution_count": null,
   "id": "b738774f",
   "metadata": {},
   "outputs": [],
   "source": [
    "P3 = (1/3 * 0.8) / M\n",
    "P3"
   ]
  },
  {
   "cell_type": "markdown",
   "id": "e42317dc",
   "metadata": {},
   "source": [
    "## Задача 4\n",
    "\n",
    "В университет на факультеты A и B поступило равное количество студентов, а на факультет C студентов поступило столько же, сколько на A и B вместе. Вероятность того, что студент факультета A сдаст первую сессию, равна 0.8. Для студента факультета B эта вероятность равна 0.7, а для студента факультета C - 0.9. Студент сдал первую сессию. Какова вероятность, что он учится: a). на факультете A б). на факультете B в). на факультете C?\n"
   ]
  },
  {
   "cell_type": "code",
   "execution_count": null,
   "id": "73de34e0",
   "metadata": {},
   "outputs": [],
   "source": [
    "M = 1/4 * 0.8 + 1/4 * 0.7 + 1/2 * 0.9\n",
    "M"
   ]
  },
  {
   "cell_type": "code",
   "execution_count": null,
   "id": "ca55759c",
   "metadata": {},
   "outputs": [],
   "source": [
    "P1 = (1/4 * 0.8) / M\n",
    "P1"
   ]
  },
  {
   "cell_type": "code",
   "execution_count": null,
   "id": "908402da",
   "metadata": {},
   "outputs": [],
   "source": [
    "P2 = (1/4 * 0.7) / M\n",
    "P2"
   ]
  },
  {
   "cell_type": "code",
   "execution_count": null,
   "id": "a4c7db64",
   "metadata": {},
   "outputs": [],
   "source": [
    "P3 = (1/2 * 0.9) / M\n",
    "P3"
   ]
  },
  {
   "cell_type": "markdown",
   "id": "672c1189",
   "metadata": {},
   "source": [
    "## Задача 5\n",
    "\n",
    "Устройство состоит из трех деталей. Для первой детали вероятность выйти из строя в первый месяц равна 0.1, для второй - 0.2, для третьей - 0.25. Какова вероятность того, что в первый месяц выйдут из строя: а). все детали б). только две детали в). хотя бы одна деталь г). от одной до двух деталей?"
   ]
  },
  {
   "cell_type": "code",
   "execution_count": 112,
   "id": "f6964f8e",
   "metadata": {},
   "outputs": [
    {
     "data": {
      "text/plain": [
       "0.0037037037037037047"
      ]
     },
     "execution_count": 112,
     "metadata": {},
     "output_type": "execute_result"
    }
   ],
   "source": [
    "n = 1\n",
    "k = 3\n",
    "p = 0.1 \n",
    "\n",
    "P1 = combinations(n, k) * (p ** k) * (1 - p) ** (n - k)\n",
    "P1"
   ]
  },
  {
   "cell_type": "code",
   "execution_count": 104,
   "id": "1fd8945a",
   "metadata": {},
   "outputs": [
    {
     "data": {
      "text/plain": [
       "0.037500000000000006"
      ]
     },
     "execution_count": 104,
     "metadata": {},
     "output_type": "execute_result"
    }
   ],
   "source": [
    "p = 0.2 \n",
    "\n",
    "P2 = combinations(n, k) * (p ** k) * (1 - p) ** (n - k)\n",
    "P2"
   ]
  },
  {
   "cell_type": "code",
   "execution_count": 106,
   "id": "5416fd8e",
   "metadata": {},
   "outputs": [
    {
     "data": {
      "text/plain": [
       "0.08333333333333333"
      ]
     },
     "execution_count": 106,
     "metadata": {},
     "output_type": "execute_result"
    }
   ],
   "source": [
    "p = 0.25 \n",
    "\n",
    "P3 = combinations(n, k) * (p ** k) * (1 - p) ** (n - k)\n",
    "P3"
   ]
  },
  {
   "cell_type": "raw",
   "id": "1cdab8e5",
   "metadata": {},
   "source": [
    "а) все детали "
   ]
  },
  {
   "cell_type": "code",
   "execution_count": 117,
   "id": "6ab1c1fd",
   "metadata": {},
   "outputs": [
    {
     "data": {
      "text/plain": [
       "1.1574074074074079e-05"
      ]
     },
     "execution_count": 117,
     "metadata": {},
     "output_type": "execute_result"
    }
   ],
   "source": [
    "P1 * P2 * P3"
   ]
  },
  {
   "cell_type": "markdown",
   "id": "cffa28a2",
   "metadata": {},
   "source": [
    "б) только две детали"
   ]
  },
  {
   "cell_type": "code",
   "execution_count": 116,
   "id": "bd96eb09",
   "metadata": {},
   "outputs": [
    {
     "data": {
      "text/plain": [
       "0.0035725308641975312"
      ]
     },
     "execution_count": 116,
     "metadata": {},
     "output_type": "execute_result"
    }
   ],
   "source": [
    "P1 * P2 + P2 * P3 + P1 * P3"
   ]
  },
  {
   "cell_type": "markdown",
   "id": "4d6266fd",
   "metadata": {},
   "source": [
    "в) хотя бы одна деталь "
   ]
  },
  {
   "cell_type": "code",
   "execution_count": 121,
   "id": "38e2919f",
   "metadata": {},
   "outputs": [
    {
     "data": {
      "text/plain": [
       "0.12812114197530863"
      ]
     },
     "execution_count": 121,
     "metadata": {},
     "output_type": "execute_result"
    }
   ],
   "source": [
    "P1 + P2 + P3 + (P1 * P2 * P3) + (P1 * P2 + P2 * P3 + P1 * P3)"
   ]
  },
  {
   "cell_type": "markdown",
   "id": "b215753a",
   "metadata": {},
   "source": [
    "г) от одной до двух деталей"
   ]
  },
  {
   "cell_type": "code",
   "execution_count": 120,
   "id": "9cd6abc2",
   "metadata": {},
   "outputs": [
    {
     "data": {
      "text/plain": [
       "0.12810956790123457"
      ]
     },
     "execution_count": 120,
     "metadata": {},
     "output_type": "execute_result"
    }
   ],
   "source": [
    "P1 + P2 + P3 + (P1 * P2 + P2 * P3 + P1 * P3)"
   ]
  },
  {
   "cell_type": "markdown",
   "id": "ce5e18fe",
   "metadata": {},
   "source": [
    "## Еще один вариант решения  (Распр.Пуассона)"
   ]
  },
  {
   "cell_type": "code",
   "execution_count": 140,
   "id": "c0fe00cc",
   "metadata": {},
   "outputs": [
    {
     "data": {
      "text/plain": [
       "0.14936120510359183"
      ]
     },
     "execution_count": 140,
     "metadata": {},
     "output_type": "execute_result"
    }
   ],
   "source": [
    "n = 30\n",
    "m = 1\n",
    "p = 0.1\n",
    "lambda_ = n * p\n",
    "\n",
    "(lambda_**m / np.math.factorial(m)) * np.exp(-lambda_)"
   ]
  },
  {
   "cell_type": "code",
   "execution_count": 141,
   "id": "40d5ff05",
   "metadata": {},
   "outputs": [
    {
     "data": {
      "text/plain": [
       "0.014872513059998151"
      ]
     },
     "execution_count": 141,
     "metadata": {},
     "output_type": "execute_result"
    }
   ],
   "source": [
    "p = 0.2\n",
    "lambda_ = n * p\n",
    "\n",
    "P2 = (lambda_**m / np.math.factorial(m)) * np.exp(-lambda_)\n",
    "P2"
   ]
  },
  {
   "cell_type": "code",
   "execution_count": 142,
   "id": "d28e05ab",
   "metadata": {},
   "outputs": [
    {
     "data": {
      "text/plain": [
       "0.0041481327761087525"
      ]
     },
     "execution_count": 142,
     "metadata": {},
     "output_type": "execute_result"
    }
   ],
   "source": [
    "p = 0.25\n",
    "lambda_ = n * p\n",
    "\n",
    "P3= (lambda_**m / np.math.factorial(m)) * np.exp(-lambda_)\n",
    "P3"
   ]
  },
  {
   "cell_type": "markdown",
   "id": "6adbb33a",
   "metadata": {},
   "source": [
    "а) все детали "
   ]
  },
  {
   "cell_type": "code",
   "execution_count": 144,
   "id": "13aff720",
   "metadata": {},
   "outputs": [
    {
     "data": {
      "text/plain": [
       "9.214564558052077e-06"
      ]
     },
     "execution_count": 144,
     "metadata": {},
     "output_type": "execute_result"
    }
   ],
   "source": [
    "P1 * P2 * P3"
   ]
  },
  {
   "cell_type": "markdown",
   "id": "999d5d85",
   "metadata": {},
   "source": [
    "б) только две детали"
   ]
  },
  {
   "cell_type": "code",
   "execution_count": null,
   "id": "3494928e",
   "metadata": {},
   "outputs": [],
   "source": [
    "P1 * P2 + P2 * P3 + P1 * P3"
   ]
  },
  {
   "cell_type": "markdown",
   "id": "1ee61ee8",
   "metadata": {},
   "source": [
    "в) хотя бы одна деталь"
   ]
  },
  {
   "cell_type": "code",
   "execution_count": 138,
   "id": "d82230e1",
   "metadata": {},
   "outputs": [
    {
     "data": {
      "text/plain": [
       "0.1712937052470736"
      ]
     },
     "execution_count": 138,
     "metadata": {},
     "output_type": "execute_result"
    }
   ],
   "source": [
    "P1 + P2 + P3 + (P1 * P2 * P3) + (P1 * P2 + P2 * P3 + P1 * P3)"
   ]
  },
  {
   "cell_type": "markdown",
   "id": "354eef65",
   "metadata": {},
   "source": [
    "г) от одной до двух деталей"
   ]
  },
  {
   "cell_type": "code",
   "execution_count": 139,
   "id": "0a58cace",
   "metadata": {},
   "outputs": [
    {
     "data": {
      "text/plain": [
       "0.17128449068251556"
      ]
     },
     "execution_count": 139,
     "metadata": {},
     "output_type": "execute_result"
    }
   ],
   "source": [
    "P1 + P2 + P3 + (P1 * P2 + P2 * P3 + P1 * P3)"
   ]
  }
 ],
 "metadata": {
  "kernelspec": {
   "display_name": "Python 3 (ipykernel)",
   "language": "python",
   "name": "python3"
  },
  "language_info": {
   "codemirror_mode": {
    "name": "ipython",
    "version": 3
   },
   "file_extension": ".py",
   "mimetype": "text/x-python",
   "name": "python",
   "nbconvert_exporter": "python",
   "pygments_lexer": "ipython3",
   "version": "3.9.12"
  }
 },
 "nbformat": 4,
 "nbformat_minor": 5
}
