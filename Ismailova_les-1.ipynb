{
 "cells": [
  {
   "cell_type": "code",
   "execution_count": 143,
   "id": "f7be7438",
   "metadata": {},
   "outputs": [],
   "source": [
    "import numpy as np\n",
    "from math import factorial\n",
    "def combinations(n, k):\n",
    "    return int(factorial(n) / (factorial(k) * factorial(n - k)))"
   ]
  },
  {
   "cell_type": "markdown",
   "id": "22a7f174",
   "metadata": {},
   "source": [
    "### 1. Из колоды в 52 карты извлекаются случайным образом 4 карты.\n",
    "a) Найти вероятность того, что все карты – крести. "
   ]
  },
  {
   "cell_type": "code",
   "execution_count": 144,
   "id": "fd2ffb3d",
   "metadata": {},
   "outputs": [
    {
     "data": {
      "text/plain": [
       "0.0026410564225690276"
      ]
     },
     "execution_count": 144,
     "metadata": {},
     "output_type": "execute_result"
    }
   ],
   "source": [
    "m1 = 13\n",
    "m2 = 12\n",
    "m3 = 11\n",
    "m4 = 10\n",
    "\n",
    "n1 = 52\n",
    "n2 = 51\n",
    "n3 = 50\n",
    "n4 = 49\n",
    "P = (m1 / n1) * (m2 / n2) * (m3 / n3) * (m4 / n4)\n",
    "P"
   ]
  },
  {
   "cell_type": "markdown",
   "id": "3bad63ed",
   "metadata": {},
   "source": [
    "б) Найти вероятность, что среди 4-х карт окажется хотя бы один туз."
   ]
  },
  {
   "cell_type": "code",
   "execution_count": 155,
   "id": "b4d035b1",
   "metadata": {},
   "outputs": [
    {
     "data": {
      "text/plain": [
       "76145"
      ]
     },
     "execution_count": 155,
     "metadata": {},
     "output_type": "execute_result"
    }
   ],
   "source": [
    "W = combinations(52, 4) - combinations(48, 4)\n",
    "W"
   ]
  },
  {
   "cell_type": "code",
   "execution_count": 146,
   "id": "f661daa0",
   "metadata": {},
   "outputs": [
    {
     "data": {
      "text/plain": [
       "270725"
      ]
     },
     "execution_count": 146,
     "metadata": {},
     "output_type": "execute_result"
    }
   ],
   "source": [
    "C = combinations(52, 4)\n",
    "C"
   ]
  },
  {
   "cell_type": "code",
   "execution_count": 147,
   "id": "001b0284",
   "metadata": {},
   "outputs": [
    {
     "data": {
      "text/plain": [
       "0.2812632745405855"
      ]
     },
     "execution_count": 147,
     "metadata": {},
     "output_type": "execute_result"
    }
   ],
   "source": [
    "P = C1/C2\n",
    "P"
   ]
  },
  {
   "cell_type": "markdown",
   "id": "9825f077",
   "metadata": {},
   "source": [
    "### 2. На входной двери подъезда установлен кодовый замок, содержащий десять кнопок с цифрами от 0 до 9. Код содержит три цифры, которые нужно нажать одновременно. Какова вероятность того, что человек, не знающий код, откроет дверь с первой попытки?"
   ]
  },
  {
   "cell_type": "code",
   "execution_count": 148,
   "id": "ec6c715e",
   "metadata": {},
   "outputs": [
    {
     "data": {
      "text/plain": [
       "0.008333333333333333"
      ]
     },
     "execution_count": 148,
     "metadata": {},
     "output_type": "execute_result"
    }
   ],
   "source": [
    "P = 1/combinations(10, 3)\n",
    "P"
   ]
  },
  {
   "cell_type": "markdown",
   "id": "35bf8144",
   "metadata": {},
   "source": [
    "### 3.В ящике имеется 15 деталей, из которых 9 окрашены. Рабочий случайным образом извлекает 3 детали. Какова вероятность того, что все извлеченные детали окрашены?"
   ]
  },
  {
   "cell_type": "code",
   "execution_count": 149,
   "id": "b327dfe1",
   "metadata": {},
   "outputs": [
    {
     "data": {
      "text/plain": [
       "0.18461538461538457"
      ]
     },
     "execution_count": 149,
     "metadata": {},
     "output_type": "execute_result"
    }
   ],
   "source": [
    "m1 = 9\n",
    "m2 = 8\n",
    "m3 = 7\n",
    "\n",
    "n1 = 15\n",
    "n2 = 14\n",
    "n3 = 13\n",
    "\n",
    "W = (m1 / n1) * (m2 / n2) * (m3 / n3)\n",
    "W"
   ]
  },
  {
   "cell_type": "markdown",
   "id": "d867fa4b",
   "metadata": {},
   "source": [
    "### В лотерее 100 билетов. Из них 2 выигрышных. Какова вероятность того, что 2 приобретенных билета окажутся выигрышными?"
   ]
  },
  {
   "cell_type": "code",
   "execution_count": 150,
   "id": "b4bf894d",
   "metadata": {},
   "outputs": [
    {
     "data": {
      "text/plain": [
       "1"
      ]
     },
     "execution_count": 150,
     "metadata": {},
     "output_type": "execute_result"
    }
   ],
   "source": [
    "n1 = combinations(2, 2)\n",
    "n1"
   ]
  },
  {
   "cell_type": "code",
   "execution_count": 151,
   "id": "7c6f6f46",
   "metadata": {},
   "outputs": [
    {
     "data": {
      "text/plain": [
       "1"
      ]
     },
     "execution_count": 151,
     "metadata": {},
     "output_type": "execute_result"
    }
   ],
   "source": [
    "n2 = combinations(98, 0)\n",
    "n2"
   ]
  },
  {
   "cell_type": "code",
   "execution_count": 152,
   "id": "954df264",
   "metadata": {},
   "outputs": [
    {
     "data": {
      "text/plain": [
       "4950"
      ]
     },
     "execution_count": 152,
     "metadata": {},
     "output_type": "execute_result"
    }
   ],
   "source": [
    "n3 = combinations(100, 2)\n",
    "n3"
   ]
  },
  {
   "cell_type": "code",
   "execution_count": 153,
   "id": "5367eecc",
   "metadata": {},
   "outputs": [
    {
     "data": {
      "text/plain": [
       "0.00020202020202020202"
      ]
     },
     "execution_count": 153,
     "metadata": {},
     "output_type": "execute_result"
    }
   ],
   "source": [
    "P = (n1*n2)/n3\n",
    "P"
   ]
  }
 ],
 "metadata": {
  "kernelspec": {
   "display_name": "Python 3 (ipykernel)",
   "language": "python",
   "name": "python3"
  },
  "language_info": {
   "codemirror_mode": {
    "name": "ipython",
    "version": 3
   },
   "file_extension": ".py",
   "mimetype": "text/x-python",
   "name": "python",
   "nbconvert_exporter": "python",
   "pygments_lexer": "ipython3",
   "version": "3.9.12"
  }
 },
 "nbformat": 4,
 "nbformat_minor": 5
}
