{
 "cells": [
  {
   "cell_type": "code",
   "execution_count": 32,
   "id": "9ef5453d",
   "metadata": {},
   "outputs": [],
   "source": [
    "import numpy as np\n",
    "import pandas as pd\n",
    "from statsmodels.stats.weightstats import _tconfint_generic as t_stat\n",
    "from scipy.stats import norm \n",
    "import math "
   ]
  },
  {
   "cell_type": "markdown",
   "id": "7aaadff6",
   "metadata": {},
   "source": [
    "## 1\n",
    "\n",
    "Известно, что генеральная совокупность распределена нормально\n",
    "со средним квадратическим отклонением, равным 16.\n",
    "Найти доверительный интервал для оценки математического ожидания a с надежностью 0.95,\n",
    "если выборочная средняя M = 80, а объем выборки n = 256.\n"
   ]
  },
  {
   "cell_type": "code",
   "execution_count": 33,
   "id": "0482395f",
   "metadata": {},
   "outputs": [],
   "source": [
    "t = 1.65\n",
    "std = 16\n",
    "M = 80 \n",
    "n = 256\n",
    "a = 0.05 "
   ]
  },
  {
   "cell_type": "code",
   "execution_count": 46,
   "id": "c109d724",
   "metadata": {},
   "outputs": [
    {
     "data": {
      "text/plain": [
       "0.015625"
      ]
     },
     "execution_count": 46,
     "metadata": {},
     "output_type": "execute_result"
    }
   ],
   "source": [
    "mean_std = np.sqrt(16) / 256\n",
    "mean_std"
   ]
  },
  {
   "cell_type": "code",
   "execution_count": 35,
   "id": "b8a5103c",
   "metadata": {},
   "outputs": [
    {
     "data": {
      "text/plain": [
       "(79.96922952234611, 80.03077047765389)"
      ]
     },
     "execution_count": 35,
     "metadata": {},
     "output_type": "execute_result"
    }
   ],
   "source": [
    "t_stat(80, mean_std,256 - 1, 0.05, 'two-sided')"
   ]
  },
  {
   "cell_type": "markdown",
   "id": "72eb3900",
   "metadata": {},
   "source": [
    "## 2\n",
    "\n",
    "В результате 10 независимых измерений некоторой величины X, выполненных с одинаковой точностью,\n",
    "получены опытные данные:\n",
    "6.9, 6.1, 6.2, 6.8, 7.5, 6.3, 6.4, 6.9, 6.7, 6.1\n",
    "Предполагая, что результаты измерений подчинены нормальному закону распределения вероятностей,\n",
    "оценить истинное значение величины X при помощи доверительного интервала, покрывающего это\n",
    "значение с доверительной вероятностью 0,95."
   ]
  },
  {
   "cell_type": "code",
   "execution_count": 36,
   "id": "5cd72df5",
   "metadata": {},
   "outputs": [
    {
     "data": {
      "text/plain": [
       "198.5"
      ]
     },
     "execution_count": 36,
     "metadata": {},
     "output_type": "execute_result"
    }
   ],
   "source": [
    "X = np.array([6.9, 6.1, 6.2, 6.8, 7.5, 6.3, 6.4, 6.9, 6.7, 6.1])\n",
    "mean_std_X = std_X / (np.sqrt(len(X)))\n",
    "mean_X"
   ]
  },
  {
   "cell_type": "code",
   "execution_count": 37,
   "id": "baf62a94",
   "metadata": {},
   "outputs": [
    {
     "data": {
      "text/plain": [
       "0.4508017549014448"
      ]
     },
     "execution_count": 37,
     "metadata": {},
     "output_type": "execute_result"
    }
   ],
   "source": [
    "std_X = X.std(ddof=1)\n",
    "std_X"
   ]
  },
  {
   "cell_type": "code",
   "execution_count": 38,
   "id": "753c36af",
   "metadata": {},
   "outputs": [
    {
     "data": {
      "text/plain": [
       "0.142556031868954"
      ]
     },
     "execution_count": 38,
     "metadata": {},
     "output_type": "execute_result"
    }
   ],
   "source": [
    "X = np.array([6.9, 6.1, 6.2, 6.8, 7.5, 6.3, 6.4, 6.9, 6.7, 6.1])\n",
    "mean_std_X = std_X / (np.sqrt(len(X)))\n",
    "mean_std_X"
   ]
  },
  {
   "cell_type": "code",
   "execution_count": 39,
   "id": "e537b9a6",
   "metadata": {},
   "outputs": [
    {
     "data": {
      "text/plain": [
       "(198.1775158514157, 198.8224841485843)"
      ]
     },
     "execution_count": 39,
     "metadata": {},
     "output_type": "execute_result"
    }
   ],
   "source": [
    "t_stat(mean_X, mean_std_X,len(X) - 1, 0.05, 'two-sided')"
   ]
  },
  {
   "cell_type": "markdown",
   "id": "91c53d42",
   "metadata": {},
   "source": [
    "## 3\n",
    "\n",
    "Проведите тест гипотезы. Утверждается, что шарики для подшипников, изготовленные автоматическим станком, имеют средний диаметр 17 мм.\n",
    "Используя односторонний критерий с α=0,05, проверить эту гипотезу, если в выборке из n=100 шариков средний диаметр\n",
    "оказался равным 17.5 мм, а дисперсия известна и равна 4 кв. мм."
   ]
  },
  {
   "cell_type": "code",
   "execution_count": 40,
   "id": "056f8624",
   "metadata": {},
   "outputs": [
    {
     "data": {
      "text/plain": [
       "1.25"
      ]
     },
     "execution_count": 40,
     "metadata": {},
     "output_type": "execute_result"
    }
   ],
   "source": [
    "H0: M = 7\n",
    "\n",
    "H1: M > 17\n",
    "    \n",
    "U_fact = (17.5 - 17) / 4 * np.sqrt(100)\n",
    "U_fact"
   ]
  },
  {
   "cell_type": "markdown",
   "id": "98f12718",
   "metadata": {},
   "source": [
    "U_cr = 1.645"
   ]
  },
  {
   "cell_type": "markdown",
   "id": "6f3d6b33",
   "metadata": {},
   "source": [
    "H0 - верна"
   ]
  },
  {
   "cell_type": "markdown",
   "id": "39ee30eb",
   "metadata": {},
   "source": [
    "## 4\n",
    "\n",
    "GПроведите тест гипотезы. Продавец утверждает, что средний вес пачки печенья составляет 200 г.\n",
    "Из партии извлечена выборка из 10 пачек. Вес каждой пачки составляет:\n",
    "202, 203, 199, 197, 195, 201, 200, 204, 194, 190.\n",
    "Известно, что их веса распределены нормально.\n",
    "Верно ли утверждение продавца, если учитывать, что доверительная вероятность равна 99%? (Провести двусторонний тест.)"
   ]
  },
  {
   "cell_type": "code",
   "execution_count": 41,
   "id": "efcfa480",
   "metadata": {},
   "outputs": [],
   "source": [
    "H0: M = 200\n",
    "\n",
    "H1: M != 200"
   ]
  },
  {
   "cell_type": "code",
   "execution_count": 42,
   "id": "3a4d00a9",
   "metadata": {},
   "outputs": [],
   "source": [
    "X = np.array([202, 203, 199, 197, 195, 201, 200, 204, 194, 190])\n",
    "mean_X = X.mean()\n",
    "std_X = X.std(ddof=1)"
   ]
  },
  {
   "cell_type": "code",
   "execution_count": 43,
   "id": "68399b6e",
   "metadata": {},
   "outputs": [
    {
     "data": {
      "text/plain": [
       "-1.0651074037450896"
      ]
     },
     "execution_count": 43,
     "metadata": {},
     "output_type": "execute_result"
    }
   ],
   "source": [
    "t_fact = (mean_X - 200) / std_X * np.sqrt(10)\n",
    "t_fact"
   ]
  },
  {
   "cell_type": "code",
   "execution_count": 44,
   "id": "1619d419",
   "metadata": {},
   "outputs": [],
   "source": [
    "t_cr = 3.25"
   ]
  },
  {
   "cell_type": "markdown",
   "id": "e75e83be",
   "metadata": {},
   "source": [
    "т.к. abs(t_fact) < t_cr,  H0- верна"
   ]
  }
 ],
 "metadata": {
  "kernelspec": {
   "display_name": "Python 3 (ipykernel)",
   "language": "python",
   "name": "python3"
  },
  "language_info": {
   "codemirror_mode": {
    "name": "ipython",
    "version": 3
   },
   "file_extension": ".py",
   "mimetype": "text/x-python",
   "name": "python",
   "nbconvert_exporter": "python",
   "pygments_lexer": "ipython3",
   "version": "3.9.12"
  }
 },
 "nbformat": 4,
 "nbformat_minor": 5
}
